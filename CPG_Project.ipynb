{
  "nbformat": 4,
  "nbformat_minor": 0,
  "metadata": {
    "colab": {
      "name": "CPG Project.ipynb",
      "provenance": []
    },
    "kernelspec": {
      "name": "python3",
      "display_name": "Python 3"
    }
  },
  "cells": [
    {
      "cell_type": "code",
      "metadata": {
        "id": "-3AeYmpj3sPt"
      },
      "source": [
        "def CpGisland(DNA):\n",
        "  counter = 0\n",
        "  for i in range(len(DNA)):\n",
        "    if DNA[i:i+2] == \"cg\":\n",
        "      counter = counter + 1\n",
        "\n",
        "  print('Matches: ', counter)\n",
        "  print('Total nucleotides:', len(DNA))\n",
        "  return (counter/ len(DNA))*1000"
      ],
      "execution_count": null,
      "outputs": []
    },
    {
      "cell_type": "code",
      "metadata": {
        "id": "vfHsfbaH36kF"
      },
      "source": [
        "#3000 Base Pairs\n",
        "RandomDNA = \"atagagcgcgcataccgaaaactattaggagaagatagcctctgcattggttgtgcacctccactacggcgccgggggtgtgcaaggctgaaatcaataggtcgccaggaacacttgttctctatgtgaaagcttgtgcgaccgcaaccaccactccatacgagtctattccacgagaatttgtcatcttttgcgaatccgtcgttgacagcccacatcatgccgtcacctaagtactttgtcaatttttctggagactgacggcgagtgccctatccccaattatgcagcccgaaaatacatagtcacatcggtacaacgcggctgtattacagccgaaaacggttagtgttagaactgagtctctcttaggaacggaacgtccatgcctacgggtagaatgtagtgatgcaacgccatcataagaatatataccctcaataggcgtgctcagggaggaagcttagacgaacgatcaaatatttcactacgtttgtatgggtcaacccaatcgtaacactctccgtcgatgtcgattctagtgattgctcatactatactcacaagtcatcttcgcgaccagagagcagtaattttctgacacgaagtcctgtatgctccaagagatattcatatagaggtcagtttacgtcaacgtaaaatgttctcgagagagttttctttcaagccaaagcaactagaggagagtgcgagtcacggtaccgccggttttagctctaacggggtttccgtagtgggtagagcgctgcgactaccgcggggcaatcccgcttttgatcgcgcgctacactgggaatctctcccggctctgacgagacaaccaaggattctacgcgcggctagggcgccgccgaagggaatgtttagtacctaactccccatgagcctagcttcttctaggcgagcataagccactaatgcgtggtctgagccggttgctcatctttgtgtaggtatttcccggtaagggccatctggactcgtggcttcgacgtggaccgatcctcacttctcttagatgctcatacacttgaactaaaatccctccgccagccaacctgactcactcccactaagcttcgcctgagagaaagtaaggagaaagcggctggccgtagaacgggcaagagggctgtgtacaaattgttactgtctaaaatgccctgggcaaacttacgtttacatgatcaacattcatttcggcatgcgacaagtagattgttaacgtactacggctgaagatacatgcagttgagagtgacgtagcagcgttgctaaatttacaggttacaattcccccttttaatgctcggaatacccaatgcagtgcacaaccttacgtgcattggcttaatacaaggactttctcctacgaacagccttggcccggagatactaaaaccggttgtgagcatcggaagcaaccccgcgcgtgttcgcttataaggctctttgactgcagatgtaatcttaccgtagagtgccgtatcgggacgcttccgctccgagaatgtcaaaaagccgtgatacactgcatagagtcttccgatcctcttggagacacacccgagcgcagtccggcgtggaccaccacccggaaatcgttgacacaatagttctccactatgattgatagctgactaggccagtgtcgtcatactgcaaattggattttcgatcttttggttaacttagttgcttggttgaatttttcctattgacaggcgttgtcgttgtcccactaccgcactccattagtcatattgttactaaaagaggtcgcattattactgatgtgtcacggatgactattggacgtggatacacccgtgacgaagaggcgcgtcgacgaatttcagacgcggcaagtcacagggcgcgtggtatcaccaagccacgtagagtatccattcttccggtggatcaaggtactgcactaggggcgagctcgtgcacgtgctatcttaccccgtccattgaaccctatggaagcgccgataccggctttacggggggcaacttaaactgcataagaaactcgaccggagacgaagtgtgtaggcaacggagactttggtagagcgagaggtgccccgatcacgaaggtcctctaggacctactgggtgcgtgtactttcataatacctggtggccataacactaaatacccctatctcagggaccacgtgcctaaaggtaacggccgattaccgcaagtgggcgagatgaaaaatggggatatcctattaccttctactagcctcgcgtcactcggctgtggatactagttgatggacaggatttccaaaggaggacaggggcttctataagataggacttgatcaagcataggcgatacgtaccggggccatgtcctgacatgtggatactcgggttgtaacgtgatatatatagtttagggtgccgcgactagtaaggtaccgtgcaactcactccttcctatctgacagaatccgttatggcccggaggtcgccggccatactctgaaccgatcctgcaatgcttaacttcttgaggccagtcaataaatgtcctgacggggccttacgacaaggggatggactattgtagataagctgtggtcttaacagtcgcaccgcaggtttgaccattcattgtacggtgtggtctaaccggtacggaaccgaacgggaccacgtacaactctccgacgcttagcggtcagaccatgcaccggcgctcaacttgttcttgtctaactcgggagcgaccctgaaacagtagcctccgaagccacgttcacactccctcctgtaacgtgagctaattaatcatacgacgttcctttaccgtactcggtcgtcagtacgaggtctcgggtggcaatagactcttgtacatcgacggaatcgcgttttcactttctggttcctgacacacccataagatccgtggccttatcggtcggatttcgacgcgggtacatcttcggccg\""
      ],
      "execution_count": null,
      "outputs": []
    },
    {
      "cell_type": "code",
      "metadata": {
        "id": "Ni2Sx72Z4JB9",
        "outputId": "a4248ebf-3b16-4985-857c-d89a0fdefe50",
        "colab": {
          "base_uri": "https://localhost:8080/",
          "height": 66
        }
      },
      "source": [
        "CpGisland(RandomDNA)"
      ],
      "execution_count": null,
      "outputs": [
        {
          "output_type": "stream",
          "text": [
            "Matches:  203\n",
            "Total nucleotides: 2999\n"
          ],
          "name": "stdout"
        },
        {
          "output_type": "execute_result",
          "data": {
            "text/plain": [
              "67.68922974324775"
            ]
          },
          "metadata": {
            "tags": []
          },
          "execution_count": 25
        }
      ]
    },
    {
      "cell_type": "code",
      "metadata": {
        "id": "N6axvxp24PhY"
      },
      "source": [
        "def CpGIsland(DNA): #define function \n",
        "  counter = 0 #Create an empty list\n",
        "  x = 0\n",
        "  for i in range(len(DNA)): #for every character in the range of teh length of DNA\n",
        "    if DNA[i:i+2] == \"CG\": #find pattern of \"CG\" in pairs\n",
        "      counter = counter + 1 #add how many pairs are in the sequence\n",
        "    elif i != 0 and float(i/1000).is_integer() == True: #if the length of the string is divisble by 1000\n",
        "      x = x + 1 #add one to empty x list\n",
        "      print('Segment', x , 'has' , counter , 'matches')\n",
        "      counter = 0 #reset counter to loop all segments\n",
        "  return print('Segment', x + 1 , 'has' , counter , 'matches')"
      ],
      "execution_count": null,
      "outputs": []
    },
    {
      "cell_type": "code",
      "metadata": {
        "id": "z5XXj4Qal7ud",
        "outputId": "2120e82e-ad17-4e0e-b8cb-950071554147",
        "colab": {
          "base_uri": "https://localhost:8080/",
          "height": 68
        }
      },
      "source": [
        "CpGIsland(RandomDNA)"
      ],
      "execution_count": null,
      "outputs": [
        {
          "output_type": "stream",
          "text": [
            "Segment 1 has 67 matches\n",
            "Segment 2 has 64 matches\n",
            "Segment 3 has 72 matches\n"
          ],
          "name": "stdout"
        }
      ]
    },
    {
      "cell_type": "code",
      "metadata": {
        "id": "HD_AJKuKWdqP"
      },
      "source": [
        "def gccontent(n):\n",
        "  #Set counting mechanism to start at zero\n",
        "    counter = 0\n",
        "    #Telling the system to look for certain characters in the input \n",
        "    for i in n:\n",
        "        if i == \"C\" or i==\"G\":\n",
        "          #Instructing the counter to add 1 any time the conditions above are true \n",
        "            counter = counter + 1\n",
        "    return (counter/len(n))*100"
      ],
      "execution_count": null,
      "outputs": []
    },
    {
      "cell_type": "code",
      "metadata": {
        "id": "9ZIl_ThLWgW3",
        "outputId": "2d0f9e68-3abb-403d-85eb-05a549229e28",
        "colab": {
          "resources": {
            "http://localhost:8080/nbextensions/google.colab/files.js": {
              "data": "Ly8gQ29weXJpZ2h0IDIwMTcgR29vZ2xlIExMQwovLwovLyBMaWNlbnNlZCB1bmRlciB0aGUgQXBhY2hlIExpY2Vuc2UsIFZlcnNpb24gMi4wICh0aGUgIkxpY2Vuc2UiKTsKLy8geW91IG1heSBub3QgdXNlIHRoaXMgZmlsZSBleGNlcHQgaW4gY29tcGxpYW5jZSB3aXRoIHRoZSBMaWNlbnNlLgovLyBZb3UgbWF5IG9idGFpbiBhIGNvcHkgb2YgdGhlIExpY2Vuc2UgYXQKLy8KLy8gICAgICBodHRwOi8vd3d3LmFwYWNoZS5vcmcvbGljZW5zZXMvTElDRU5TRS0yLjAKLy8KLy8gVW5sZXNzIHJlcXVpcmVkIGJ5IGFwcGxpY2FibGUgbGF3IG9yIGFncmVlZCB0byBpbiB3cml0aW5nLCBzb2Z0d2FyZQovLyBkaXN0cmlidXRlZCB1bmRlciB0aGUgTGljZW5zZSBpcyBkaXN0cmlidXRlZCBvbiBhbiAiQVMgSVMiIEJBU0lTLAovLyBXSVRIT1VUIFdBUlJBTlRJRVMgT1IgQ09ORElUSU9OUyBPRiBBTlkgS0lORCwgZWl0aGVyIGV4cHJlc3Mgb3IgaW1wbGllZC4KLy8gU2VlIHRoZSBMaWNlbnNlIGZvciB0aGUgc3BlY2lmaWMgbGFuZ3VhZ2UgZ292ZXJuaW5nIHBlcm1pc3Npb25zIGFuZAovLyBsaW1pdGF0aW9ucyB1bmRlciB0aGUgTGljZW5zZS4KCi8qKgogKiBAZmlsZW92ZXJ2aWV3IEhlbHBlcnMgZm9yIGdvb2dsZS5jb2xhYiBQeXRob24gbW9kdWxlLgogKi8KKGZ1bmN0aW9uKHNjb3BlKSB7CmZ1bmN0aW9uIHNwYW4odGV4dCwgc3R5bGVBdHRyaWJ1dGVzID0ge30pIHsKICBjb25zdCBlbGVtZW50ID0gZG9jdW1lbnQuY3JlYXRlRWxlbWVudCgnc3BhbicpOwogIGVsZW1lbnQudGV4dENvbnRlbnQgPSB0ZXh0OwogIGZvciAoY29uc3Qga2V5IG9mIE9iamVjdC5rZXlzKHN0eWxlQXR0cmlidXRlcykpIHsKICAgIGVsZW1lbnQuc3R5bGVba2V5XSA9IHN0eWxlQXR0cmlidXRlc1trZXldOwogIH0KICByZXR1cm4gZWxlbWVudDsKfQoKLy8gTWF4IG51bWJlciBvZiBieXRlcyB3aGljaCB3aWxsIGJlIHVwbG9hZGVkIGF0IGEgdGltZS4KY29uc3QgTUFYX1BBWUxPQURfU0laRSA9IDEwMCAqIDEwMjQ7Ci8vIE1heCBhbW91bnQgb2YgdGltZSB0byBibG9jayB3YWl0aW5nIGZvciB0aGUgdXNlci4KY29uc3QgRklMRV9DSEFOR0VfVElNRU9VVF9NUyA9IDMwICogMTAwMDsKCmZ1bmN0aW9uIF91cGxvYWRGaWxlcyhpbnB1dElkLCBvdXRwdXRJZCkgewogIGNvbnN0IHN0ZXBzID0gdXBsb2FkRmlsZXNTdGVwKGlucHV0SWQsIG91dHB1dElkKTsKICBjb25zdCBvdXRwdXRFbGVtZW50ID0gZG9jdW1lbnQuZ2V0RWxlbWVudEJ5SWQob3V0cHV0SWQpOwogIC8vIENhY2hlIHN0ZXBzIG9uIHRoZSBvdXRwdXRFbGVtZW50IHRvIG1ha2UgaXQgYXZhaWxhYmxlIGZvciB0aGUgbmV4dCBjYWxsCiAgLy8gdG8gdXBsb2FkRmlsZXNDb250aW51ZSBmcm9tIFB5dGhvbi4KICBvdXRwdXRFbGVtZW50LnN0ZXBzID0gc3RlcHM7CgogIHJldHVybiBfdXBsb2FkRmlsZXNDb250aW51ZShvdXRwdXRJZCk7Cn0KCi8vIFRoaXMgaXMgcm91Z2hseSBhbiBhc3luYyBnZW5lcmF0b3IgKG5vdCBzdXBwb3J0ZWQgaW4gdGhlIGJyb3dzZXIgeWV0KSwKLy8gd2hlcmUgdGhlcmUgYXJlIG11bHRpcGxlIGFzeW5jaHJvbm91cyBzdGVwcyBhbmQgdGhlIFB5dGhvbiBzaWRlIGlzIGdvaW5nCi8vIHRvIHBvbGwgZm9yIGNvbXBsZXRpb24gb2YgZWFjaCBzdGVwLgovLyBUaGlzIHVzZXMgYSBQcm9taXNlIHRvIGJsb2NrIHRoZSBweXRob24gc2lkZSBvbiBjb21wbGV0aW9uIG9mIGVhY2ggc3RlcCwKLy8gdGhlbiBwYXNzZXMgdGhlIHJlc3VsdCBvZiB0aGUgcHJldmlvdXMgc3RlcCBhcyB0aGUgaW5wdXQgdG8gdGhlIG5leHQgc3RlcC4KZnVuY3Rpb24gX3VwbG9hZEZpbGVzQ29udGludWUob3V0cHV0SWQpIHsKICBjb25zdCBvdXRwdXRFbGVtZW50ID0gZG9jdW1lbnQuZ2V0RWxlbWVudEJ5SWQob3V0cHV0SWQpOwogIGNvbnN0IHN0ZXBzID0gb3V0cHV0RWxlbWVudC5zdGVwczsKCiAgY29uc3QgbmV4dCA9IHN0ZXBzLm5leHQob3V0cHV0RWxlbWVudC5sYXN0UHJvbWlzZVZhbHVlKTsKICByZXR1cm4gUHJvbWlzZS5yZXNvbHZlKG5leHQudmFsdWUucHJvbWlzZSkudGhlbigodmFsdWUpID0+IHsKICAgIC8vIENhY2hlIHRoZSBsYXN0IHByb21pc2UgdmFsdWUgdG8gbWFrZSBpdCBhdmFpbGFibGUgdG8gdGhlIG5leHQKICAgIC8vIHN0ZXAgb2YgdGhlIGdlbmVyYXRvci4KICAgIG91dHB1dEVsZW1lbnQubGFzdFByb21pc2VWYWx1ZSA9IHZhbHVlOwogICAgcmV0dXJuIG5leHQudmFsdWUucmVzcG9uc2U7CiAgfSk7Cn0KCi8qKgogKiBHZW5lcmF0b3IgZnVuY3Rpb24gd2hpY2ggaXMgY2FsbGVkIGJldHdlZW4gZWFjaCBhc3luYyBzdGVwIG9mIHRoZSB1cGxvYWQKICogcHJvY2Vzcy4KICogQHBhcmFtIHtzdHJpbmd9IGlucHV0SWQgRWxlbWVudCBJRCBvZiB0aGUgaW5wdXQgZmlsZSBwaWNrZXIgZWxlbWVudC4KICogQHBhcmFtIHtzdHJpbmd9IG91dHB1dElkIEVsZW1lbnQgSUQgb2YgdGhlIG91dHB1dCBkaXNwbGF5LgogKiBAcmV0dXJuIHshSXRlcmFibGU8IU9iamVjdD59IEl0ZXJhYmxlIG9mIG5leHQgc3RlcHMuCiAqLwpmdW5jdGlvbiogdXBsb2FkRmlsZXNTdGVwKGlucHV0SWQsIG91dHB1dElkKSB7CiAgY29uc3QgaW5wdXRFbGVtZW50ID0gZG9jdW1lbnQuZ2V0RWxlbWVudEJ5SWQoaW5wdXRJZCk7CiAgaW5wdXRFbGVtZW50LmRpc2FibGVkID0gZmFsc2U7CgogIGNvbnN0IG91dHB1dEVsZW1lbnQgPSBkb2N1bWVudC5nZXRFbGVtZW50QnlJZChvdXRwdXRJZCk7CiAgb3V0cHV0RWxlbWVudC5pbm5lckhUTUwgPSAnJzsKCiAgY29uc3QgcGlja2VkUHJvbWlzZSA9IG5ldyBQcm9taXNlKChyZXNvbHZlKSA9PiB7CiAgICBpbnB1dEVsZW1lbnQuYWRkRXZlbnRMaXN0ZW5lcignY2hhbmdlJywgKGUpID0+IHsKICAgICAgcmVzb2x2ZShlLnRhcmdldC5maWxlcyk7CiAgICB9KTsKICB9KTsKCiAgY29uc3QgY2FuY2VsID0gZG9jdW1lbnQuY3JlYXRlRWxlbWVudCgnYnV0dG9uJyk7CiAgaW5wdXRFbGVtZW50LnBhcmVudEVsZW1lbnQuYXBwZW5kQ2hpbGQoY2FuY2VsKTsKICBjYW5jZWwudGV4dENvbnRlbnQgPSAnQ2FuY2VsIHVwbG9hZCc7CiAgY29uc3QgY2FuY2VsUHJvbWlzZSA9IG5ldyBQcm9taXNlKChyZXNvbHZlKSA9PiB7CiAgICBjYW5jZWwub25jbGljayA9ICgpID0+IHsKICAgICAgcmVzb2x2ZShudWxsKTsKICAgIH07CiAgfSk7CgogIC8vIENhbmNlbCB1cGxvYWQgaWYgdXNlciBoYXNuJ3QgcGlja2VkIGFueXRoaW5nIGluIHRpbWVvdXQuCiAgY29uc3QgdGltZW91dFByb21pc2UgPSBuZXcgUHJvbWlzZSgocmVzb2x2ZSkgPT4gewogICAgc2V0VGltZW91dCgoKSA9PiB7CiAgICAgIHJlc29sdmUobnVsbCk7CiAgICB9LCBGSUxFX0NIQU5HRV9USU1FT1VUX01TKTsKICB9KTsKCiAgLy8gV2FpdCBmb3IgdGhlIHVzZXIgdG8gcGljayB0aGUgZmlsZXMuCiAgY29uc3QgZmlsZXMgPSB5aWVsZCB7CiAgICBwcm9taXNlOiBQcm9taXNlLnJhY2UoW3BpY2tlZFByb21pc2UsIHRpbWVvdXRQcm9taXNlLCBjYW5jZWxQcm9taXNlXSksCiAgICByZXNwb25zZTogewogICAgICBhY3Rpb246ICdzdGFydGluZycsCiAgICB9CiAgfTsKCiAgaWYgKCFmaWxlcykgewogICAgcmV0dXJuIHsKICAgICAgcmVzcG9uc2U6IHsKICAgICAgICBhY3Rpb246ICdjb21wbGV0ZScsCiAgICAgIH0KICAgIH07CiAgfQoKICBjYW5jZWwucmVtb3ZlKCk7CgogIC8vIERpc2FibGUgdGhlIGlucHV0IGVsZW1lbnQgc2luY2UgZnVydGhlciBwaWNrcyBhcmUgbm90IGFsbG93ZWQuCiAgaW5wdXRFbGVtZW50LmRpc2FibGVkID0gdHJ1ZTsKCiAgZm9yIChjb25zdCBmaWxlIG9mIGZpbGVzKSB7CiAgICBjb25zdCBsaSA9IGRvY3VtZW50LmNyZWF0ZUVsZW1lbnQoJ2xpJyk7CiAgICBsaS5hcHBlbmQoc3BhbihmaWxlLm5hbWUsIHtmb250V2VpZ2h0OiAnYm9sZCd9KSk7CiAgICBsaS5hcHBlbmQoc3BhbigKICAgICAgICBgKCR7ZmlsZS50eXBlIHx8ICduL2EnfSkgLSAke2ZpbGUuc2l6ZX0gYnl0ZXMsIGAgKwogICAgICAgIGBsYXN0IG1vZGlmaWVkOiAkewogICAgICAgICAgICBmaWxlLmxhc3RNb2RpZmllZERhdGUgPyBmaWxlLmxhc3RNb2RpZmllZERhdGUudG9Mb2NhbGVEYXRlU3RyaW5nKCkgOgogICAgICAgICAgICAgICAgICAgICAgICAgICAgICAgICAgICAnbi9hJ30gLSBgKSk7CiAgICBjb25zdCBwZXJjZW50ID0gc3BhbignMCUgZG9uZScpOwogICAgbGkuYXBwZW5kQ2hpbGQocGVyY2VudCk7CgogICAgb3V0cHV0RWxlbWVudC5hcHBlbmRDaGlsZChsaSk7CgogICAgY29uc3QgZmlsZURhdGFQcm9taXNlID0gbmV3IFByb21pc2UoKHJlc29sdmUpID0+IHsKICAgICAgY29uc3QgcmVhZGVyID0gbmV3IEZpbGVSZWFkZXIoKTsKICAgICAgcmVhZGVyLm9ubG9hZCA9IChlKSA9PiB7CiAgICAgICAgcmVzb2x2ZShlLnRhcmdldC5yZXN1bHQpOwogICAgICB9OwogICAgICByZWFkZXIucmVhZEFzQXJyYXlCdWZmZXIoZmlsZSk7CiAgICB9KTsKICAgIC8vIFdhaXQgZm9yIHRoZSBkYXRhIHRvIGJlIHJlYWR5LgogICAgbGV0IGZpbGVEYXRhID0geWllbGQgewogICAgICBwcm9taXNlOiBmaWxlRGF0YVByb21pc2UsCiAgICAgIHJlc3BvbnNlOiB7CiAgICAgICAgYWN0aW9uOiAnY29udGludWUnLAogICAgICB9CiAgICB9OwoKICAgIC8vIFVzZSBhIGNodW5rZWQgc2VuZGluZyB0byBhdm9pZCBtZXNzYWdlIHNpemUgbGltaXRzLiBTZWUgYi82MjExNTY2MC4KICAgIGxldCBwb3NpdGlvbiA9IDA7CiAgICB3aGlsZSAocG9zaXRpb24gPCBmaWxlRGF0YS5ieXRlTGVuZ3RoKSB7CiAgICAgIGNvbnN0IGxlbmd0aCA9IE1hdGgubWluKGZpbGVEYXRhLmJ5dGVMZW5ndGggLSBwb3NpdGlvbiwgTUFYX1BBWUxPQURfU0laRSk7CiAgICAgIGNvbnN0IGNodW5rID0gbmV3IFVpbnQ4QXJyYXkoZmlsZURhdGEsIHBvc2l0aW9uLCBsZW5ndGgpOwogICAgICBwb3NpdGlvbiArPSBsZW5ndGg7CgogICAgICBjb25zdCBiYXNlNjQgPSBidG9hKFN0cmluZy5mcm9tQ2hhckNvZGUuYXBwbHkobnVsbCwgY2h1bmspKTsKICAgICAgeWllbGQgewogICAgICAgIHJlc3BvbnNlOiB7CiAgICAgICAgICBhY3Rpb246ICdhcHBlbmQnLAogICAgICAgICAgZmlsZTogZmlsZS5uYW1lLAogICAgICAgICAgZGF0YTogYmFzZTY0LAogICAgICAgIH0sCiAgICAgIH07CiAgICAgIHBlcmNlbnQudGV4dENvbnRlbnQgPQogICAgICAgICAgYCR7TWF0aC5yb3VuZCgocG9zaXRpb24gLyBmaWxlRGF0YS5ieXRlTGVuZ3RoKSAqIDEwMCl9JSBkb25lYDsKICAgIH0KICB9CgogIC8vIEFsbCBkb25lLgogIHlpZWxkIHsKICAgIHJlc3BvbnNlOiB7CiAgICAgIGFjdGlvbjogJ2NvbXBsZXRlJywKICAgIH0KICB9Owp9CgpzY29wZS5nb29nbGUgPSBzY29wZS5nb29nbGUgfHwge307CnNjb3BlLmdvb2dsZS5jb2xhYiA9IHNjb3BlLmdvb2dsZS5jb2xhYiB8fCB7fTsKc2NvcGUuZ29vZ2xlLmNvbGFiLl9maWxlcyA9IHsKICBfdXBsb2FkRmlsZXMsCiAgX3VwbG9hZEZpbGVzQ29udGludWUsCn07Cn0pKHNlbGYpOwo=",
              "ok": true,
              "headers": [
                [
                  "content-type",
                  "application/javascript"
                ]
              ],
              "status": 200,
              "status_text": ""
            }
          },
          "base_uri": "https://localhost:8080/",
          "height": 108
        }
      },
      "source": [
        "from google.colab import files #importing .fatsa file for species\n",
        "files.upload()"
      ],
      "execution_count": null,
      "outputs": [
        {
          "output_type": "display_data",
          "data": {
            "text/html": [
              "\n",
              "     <input type=\"file\" id=\"files-a18e62b9-1dbb-4170-9237-1a39080eb09a\" name=\"files[]\" multiple disabled />\n",
              "     <output id=\"result-a18e62b9-1dbb-4170-9237-1a39080eb09a\">\n",
              "      Upload widget is only available when the cell has been executed in the\n",
              "      current browser session. Please rerun this cell to enable.\n",
              "      </output>\n",
              "      <script src=\"/nbextensions/google.colab/files.js\"></script> "
            ],
            "text/plain": [
              "<IPython.core.display.HTML object>"
            ]
          },
          "metadata": {
            "tags": []
          }
        },
        {
          "output_type": "stream",
          "text": [
            "Saving canine.fasta to canine.fasta\n"
          ],
          "name": "stdout"
        },
        {
          "output_type": "execute_result",
          "data": {
            "text/plain": [
              "{'canine.fasta': b'>KU508407.1 Canine parvovirus 2c strain CPV_IZSSI_25835_09 nonstructural protein NS1 (NS1), nonstructural protein NS2 (NS2), VP1 protein (VP1), and VP2 protein (VP2) genes, complete cds\\nCTTGGTCAGTTGGTTCTAAAGAATGATAGGCGGTTTGTGTGTTTAAACTTGGGCGGGAAAAGGTGGCGGG\\nCTAATTGTGGGCGTGGTTAAAGGTATAAAAGACAAACCATAGACCGTTACTGACATTCGCTTCTTGTCTT\\nTGACAGAGTGAACCTCTCTTACTTTAACTAACCATGTCTGGCAACCAGTATACTGAGGAAGTTATGGAGG\\nGAGTAAATTGGTTAAAGAAACATGCAGAAAATGAAGCATTTTCGTTTGTTTTTAAATGTGACAACGTCCA\\nACTAAATGGAAAGGATGTTCGCTGGAACAACTATACCAAACCAATTCAAAACGAAGAGCTAACATCTTTA\\nATTAGAGGAGCACAAACAGCAATGGATCAAACCGAAGAAGAAGAAATGGACTGGGAATCGGAAGTTGATA\\nGTCTCGCCAAAAAGCAAGTACAAACTTTTGATGCATTAATTAAAAAATGTCTTTTTGAAGTCTTTGTTTC\\nTAAAAATATAGAACCAAATGAATGTGTTTGGTTTATTCAACATGAATGGGGAAAAGATCAAGGCTGGCAT\\nTGTCATGTTTTACTTCATAGTAAGAACTTACAACAAGCAACTGGTAAATGGCTACGCAGACAAATGAATA\\nTGTATTGGAGTAGATGGTTGGTGACTCTTTGTTCGGTAAACTTAACACCAACTGAAAAGATTAAGCTCAG\\nAGAAATTGCAGAAGATAGTGAATGGGTGACTATATTAACATACAGACATAAGCAAACAAAAAAAGACTAT\\nGTTAAAATGGTTCATTTTGGAAATATGATAGCATATTACTTTTTAACAAAGAAAAAAATTGTCCACATGA\\nCAAAAGAAAGTGGCTATTTTTTAAGTACTGATTCTGGTTGGAAATTTAACTTTATGAAGTATCAAGACAG\\nACAAATTGTCAGCACACTTTACACTGAACAAATGAAACCAGAAACCGTTGAAACCACAGTGACGACAGCA\\nCAGGAAACAAAGCGCGGGAGAATTCAAACTAAAAAGGAAGTGTCAATCAAATGTACTTTGCGGGACTTGG\\nTTAGTAAAAGAGTAACATCACCTGAAGACTGGATGATGTTACAACCAGATAGTTATATTGAAATGATGGC\\nACAACCAGGAGGTGAAAATCTTTTAAAAAATACACTTGAAATTTGTACTTTGACTTTAGCAAGAACAAAA\\nACAGCATTTGAATTAATACTTGAAAAAGCAGATAATACTAAACTGACTAACTTTGATCTTGCAAATTCTA\\nGAACATGTCAGATTTTTAGAATGCACGGATGGAATTGGATTAAAGTTTGTCACGCTATAGCATGTGTTTT\\nAAATAGACAAGGTGGTAAAAGAAATACAGTTCTTTTTCATGGACCAGCAAGTACAGGAAAATCTATCATT\\nGCTCAAGCCATAGCACAAGCTGTGGGTAATGTTGGTTGTTATAATGCAGCAAATGTAAATTTTCCATTTA\\nATGACTGTACCAATAAAAATTTAATTTGGATTGAAGAAGCTGGTAACTTTGGTCAACAAGTTAATCAATT\\nTAAAGCAATTTGTTCTGGACAAACAATTAGAATTGATCAAAAAGGTAAAGGAAGTAAGCAAATTGAACCA\\nACTCCAGTAATTATGACAACTAATGAGAATATAACAATTGTGAGAATTGGATGTGAAGAAAGACCTGAAC\\nATACACAACCAATAAGAGACAGAATGTTGAACATTAAGTTAGTATGTAAGCTTCCAGGAGACTTTGGTTT\\nGGTTGATAAAGAAGAATGGCCTTTAATATGTGCATGGTTAGTTAAACATGGTTATGAATCAACCATGGCT\\nAACTATACACATCATTGGGGAAAAGTACCAGAATGGGATGAAAACTGGGCGGAGCCTAAAATACAAGAAG\\nGTATAAATTCACCAGGTTGCAAAGACTTAGAGACGCAAGCGGCAAGCAATCCTCAGAGTCAAGACCAAGT\\nTCTAACTCCTCTGACTCCGGACGTAGTGGACCTTGCACTGGAACCGTGGAGTACTCCAGATACGCCTATT\\nGCAGAAACTGCAAATCAACAATCAAACCAACTTGGCGTTACTCACAAAGACGTGCAAGCGAGTCCAACGT\\nGGTCCGAAATAGAGGCAGACCTGAGAGCCATCTTTACTTCTGAACAACTGGAAGAAGATTTTCGAGACGA\\nCTTGGATTAAGGTACGATGGCACCTCCGGCAAAGAGAGCCAGGAGAGGTAAGGGTGTGTTAGTAAAGTGG\\nGGGGAGGGGAAAGATTTAGTAACTTAACTAAGTATGTGTTTTTTTATAGGACTTGTGCCTCCAGGTTATA\\nAATATCTTGGGCCTGGGAACAGTCTTGACCAAGGAGAACCAACTAACCCTTCTGACGCCGCTGCAAAAGA\\nACACGACGAAGCTTACGCTGCTTATCTTCGCTCTGGTAAAAACCCATACTTATATTTCTCGCCAGCAGAT\\nCAACGCTTTATAGATCAAACTAAGGACGCTAAAGATTGGGGGGGGAAAATAGGACATTATTTTTTTAGAG\\nCTAAAAAGGCAATTGCTCCAGTATTAACTGATACACCAGATCATCCATCAACATCAAGACCAACAAAACC\\nAACTAAAAGAAGTAGACCACCACCTCATATTTTCATCAATCTTGCAAAAAAAAAAAAAGCCGGTGCAGGA\\nCAAGTAAAAAGAGACAATCTTGCACCAATGAGTGATGGAGCAGTTCAACCAGACGGTGGTCAACCTGCTG\\nTCAGAAATGAAAGAGCAACAGGATCTGGGAACGGGTCTGGAGGCGGGGGTGGTGGTGGTTCTGGGGGTGT\\nGGGGATTTCTACGGGTACTTTCAATAATCAGACGGAATTTAAATTTTTGGAAAACGGATGGGTGGAAATC\\nACAGCAAACTCAAGCAGACTTGTACATTTAAATATGCCAGAAAGTGAAAATTATAGAAGAGTGGTTGTAA\\nATAATTTGGATAAAACTGCAGTTAACGGAAACATGGCTTTAGATGATACTCATGCACAAATTGTAACACC\\nTTGGTCATTGGTTGATGCAAATGCTTGGGGAGTTTGGTTTAATCCAGGAGATTGGCAACTAATTGTTAAT\\nACTATGAGTGAGTTGCATTTAGTTAGTTTTGAACAAGAAATTTTTAATGTTGTTTTAAAGACTGTTTCAG\\nAATCTGCTACTCAGCCACCAACTAAAGTTTATAATAATGATTTAACTGCATCATTGATGGTTGCATTAGA\\nTAGTAATAATACTATGCCATTTACTCCAGCAGCTATGAGATCTGAGACATTGGGTTTTTATCCATGGAAA\\nCCAACCATACCAACTCCATGGAGATATTATTTTCAATGGGATAGAACATTAATACCATCTCATACTGGAA\\nCTAGTGGCACACCAACAAATATATACCATGGTACAGATCCAGATGATGTTCAATTTTATACTATTGAAAA\\nTTCTGTGCCAGTACACCTACTAAGAACAGGTGATGAATTTGCTACAGGAACATTTTTTTTTGATTGTAAA\\nCCATGTAGACTAACACATACATGGCAAACAAATAGAGCATTGGGCTTACCACCATTTCTAAATTCTTTGC\\nCTCAAGCTGAAGGAGGTACTAACTTTGGTTATATAGGAGTTCAACAAGATAAAAGACGTGGTGTAACTCA\\nAATGGGAAATACAAACTATATTACTGAAGCTACTATTATGAGACCAGCTGAGGTTGGTTATAGTGCACCA\\nTATTATTCTTTTGAGGCGTCTACACAAGGGCCATTTAAAACACCTATTGCAGCAGGACGGGGGGGAGCGC\\nAAACAGATGAAAATCAAGCAGCAGATGGTGATCCAAGATATGCATTTGGTAGACAACATGGTCAAAAAAC\\nTACCACAACAGGAGAAACACCTGAGAGATTTACATATATAGCACATCAAGATACAGGAAGATATCCAGAA\\nGGAGATTGGATTCAAAATATTAACTTTAACCTTCCTGTAACAGAAGATAATGTATTGCTACCAACAGATC\\nCAATTGGAGGTAAAACAGGAATTAACTATACTAATATATTTAATACTTATGGTCCTTTAACTGCATTAAA\\nTAATGTACCACCAGTTTATCCAAATGGTCAAATTTGGGATAAAGAATTTGATACTGACTTAAAACCAAGA\\nCTTCATGTAAATGCACCATTTGTTTGTCAAAATAATTGTCCTGGTCAATTATTTGTAAAAGTTGCGCCTA\\nATTTAACAAATGAATATGATCCTGATGCATCTGCTAATATGTCAAGAATTGTAACTTACTCAGATTTTTG\\nGTGGAAAGGTAAATTAGTATTTAAAGCTAAACTAAGAGCCTCTCATACTTGGAATCCAATTCAACAAATG\\nAGTATTAATGTAGATAACCAATTTAACTATGTACCAAGTAATATTGGAGGTATGAAAATTGTATATGAAA\\nAATCTCAACTAGCACCTAGAAAATTATATTAACATACTTACTATGTTTTTATGTTTATTACATATTATTT\\nTAAGATTAATTAAATTACAGCATAGAAATATTGTACTTGTACTTGATATAGGATTTAGAAGGTTTGTTGT\\nATGGTATACAATAACTATAAGAAATAGAAGAACATTTAGATCATAGTTAGTAGTTTGTTTTATAAAATGT\\nATTGTAAACCATTAATGTATGTTGTTATGGTGTGGGTGGTTGGTTGGTTTGCCCTTAGAA\\n\\n'}"
            ]
          },
          "metadata": {
            "tags": []
          },
          "execution_count": 2
        }
      ]
    },
    {
      "cell_type": "code",
      "metadata": {
        "id": "RL5AFhRqe1k0"
      },
      "source": [
        "my_file = open(\"canine.fasta\")\n",
        "Canine = my_file.read()\n",
        "print(Canine)"
      ],
      "execution_count": null,
      "outputs": []
    },
    {
      "cell_type": "code",
      "metadata": {
        "id": "A9CMgOYVLhqG",
        "outputId": "cb9e091d-1048-4935-9031-08c575827224",
        "colab": {
          "base_uri": "https://localhost:8080/",
          "height": 192
        }
      },
      "source": [
        "len(Canine)"
      ],
      "execution_count": null,
      "outputs": [
        {
          "output_type": "error",
          "ename": "NameError",
          "evalue": "ignored",
          "traceback": [
            "\u001b[0;31m---------------------------------------------------------------------------\u001b[0m",
            "\u001b[0;31mNameError\u001b[0m                                 Traceback (most recent call last)",
            "\u001b[0;32m<ipython-input-2-932cbe2c814b>\u001b[0m in \u001b[0;36m<module>\u001b[0;34m()\u001b[0m\n\u001b[0;32m----> 1\u001b[0;31m \u001b[0mlen\u001b[0m\u001b[0;34m(\u001b[0m\u001b[0mCanine\u001b[0m\u001b[0;34m)\u001b[0m\u001b[0;34m\u001b[0m\u001b[0;34m\u001b[0m\u001b[0m\n\u001b[0m",
            "\u001b[0;31mNameError\u001b[0m: name 'Canine' is not defined"
          ]
        }
      ]
    },
    {
      "cell_type": "code",
      "metadata": {
        "id": "0H0fhfzRfJsF",
        "outputId": "a25d7058-f652-4a70-ee17-164d0f23e607",
        "colab": {
          "base_uri": "https://localhost:8080/",
          "height": 34
        }
      },
      "source": [
        "gccontent(Canine)"
      ],
      "execution_count": null,
      "outputs": [
        {
          "output_type": "execute_result",
          "data": {
            "text/plain": [
              "34.39400081070126"
            ]
          },
          "metadata": {
            "tags": []
          },
          "execution_count": 57
        }
      ]
    },
    {
      "cell_type": "code",
      "metadata": {
        "id": "zIvXKaWYigDe",
        "outputId": "6f7ffb9b-4839-4345-b0e2-ee191840ee86",
        "colab": {
          "base_uri": "https://localhost:8080/",
          "height": 102
        }
      },
      "source": [
        "CpGIsland(Canine)"
      ],
      "execution_count": null,
      "outputs": [
        {
          "output_type": "stream",
          "text": [
            "Segment 1 has 15 matches\n",
            "Segment 2 has 7 matches\n",
            "Segment 3 has 29 matches\n",
            "Segment 4 has 6 matches\n",
            "Segment 5 has 3 matches\n"
          ],
          "name": "stdout"
        }
      ]
    },
    {
      "cell_type": "code",
      "metadata": {
        "id": "CvmARBhufNwO",
        "outputId": "2b3d5ce5-c0e9-4c34-bd65-1ca67cc08fee",
        "colab": {
          "resources": {
            "http://localhost:8080/nbextensions/google.colab/files.js": {
              "data": "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",
              "ok": true,
              "headers": [
                [
                  "content-type",
                  "application/javascript"
                ]
              ],
              "status": 200,
              "status_text": "OK"
            }
          },
          "base_uri": "https://localhost:8080/",
          "height": 55
        }
      },
      "source": [
        "from google.colab import files #importing .fatsa file for species\n",
        "files.upload()"
      ],
      "execution_count": null,
      "outputs": [
        {
          "output_type": "display_data",
          "data": {
            "text/html": [
              "\n",
              "     <input type=\"file\" id=\"files-2d3ed3be-c602-405c-a827-7d55e5755db0\" name=\"files[]\" multiple disabled />\n",
              "     <output id=\"result-2d3ed3be-c602-405c-a827-7d55e5755db0\">\n",
              "      Upload widget is only available when the cell has been executed in the\n",
              "      current browser session. Please rerun this cell to enable.\n",
              "      </output>\n",
              "      <script src=\"/nbextensions/google.colab/files.js\"></script> "
            ],
            "text/plain": [
              "<IPython.core.display.HTML object>"
            ]
          },
          "metadata": {
            "tags": []
          }
        },
        {
          "output_type": "execute_result",
          "data": {
            "text/plain": [
              "{}"
            ]
          },
          "metadata": {
            "tags": []
          },
          "execution_count": 1
        }
      ]
    },
    {
      "cell_type": "code",
      "metadata": {
        "id": "IZubGu2-fci8",
        "outputId": "9465126c-a890-4c41-9d76-bb5021c98716",
        "colab": {
          "base_uri": "https://localhost:8080/",
          "height": 209
        }
      },
      "source": [
        "my_file = open(\"shrimp.fasta\")\n",
        "Shrimp = my_file.read()\n",
        "print(Shrimp)"
      ],
      "execution_count": null,
      "outputs": [
        {
          "output_type": "error",
          "ename": "FileNotFoundError",
          "evalue": "ignored",
          "traceback": [
            "\u001b[0;31m---------------------------------------------------------------------------\u001b[0m",
            "\u001b[0;31mFileNotFoundError\u001b[0m                         Traceback (most recent call last)",
            "\u001b[0;32m<ipython-input-2-4a757c9f2bfa>\u001b[0m in \u001b[0;36m<module>\u001b[0;34m()\u001b[0m\n\u001b[0;32m----> 1\u001b[0;31m \u001b[0mmy_file\u001b[0m \u001b[0;34m=\u001b[0m \u001b[0mopen\u001b[0m\u001b[0;34m(\u001b[0m\u001b[0;34m\"shrimp.fasta\"\u001b[0m\u001b[0;34m)\u001b[0m\u001b[0;34m\u001b[0m\u001b[0;34m\u001b[0m\u001b[0m\n\u001b[0m\u001b[1;32m      2\u001b[0m \u001b[0mShrimp\u001b[0m \u001b[0;34m=\u001b[0m \u001b[0mmy_file\u001b[0m\u001b[0;34m.\u001b[0m\u001b[0mread\u001b[0m\u001b[0;34m(\u001b[0m\u001b[0;34m)\u001b[0m\u001b[0;34m\u001b[0m\u001b[0;34m\u001b[0m\u001b[0m\n\u001b[1;32m      3\u001b[0m \u001b[0mprint\u001b[0m\u001b[0;34m(\u001b[0m\u001b[0mShrimp\u001b[0m\u001b[0;34m)\u001b[0m\u001b[0;34m\u001b[0m\u001b[0;34m\u001b[0m\u001b[0m\n",
            "\u001b[0;31mFileNotFoundError\u001b[0m: [Errno 2] No such file or directory: 'shrimp.fasta'"
          ]
        }
      ]
    },
    {
      "cell_type": "code",
      "metadata": {
        "id": "hMDVtwuXfm2-",
        "outputId": "8738ad2c-cad9-4252-8c0d-a42f2f426af8",
        "colab": {
          "base_uri": "https://localhost:8080/",
          "height": 34
        }
      },
      "source": [
        "gccontent(Shrimp)"
      ],
      "execution_count": null,
      "outputs": [
        {
          "output_type": "execute_result",
          "data": {
            "text/plain": [
              "39.02249806051202"
            ]
          },
          "metadata": {
            "tags": []
          },
          "execution_count": 35
        }
      ]
    },
    {
      "cell_type": "code",
      "metadata": {
        "id": "eWjhtlwEiwbg",
        "outputId": "1b0f17c1-8201-4410-94b0-cd746de8b3e5",
        "colab": {
          "base_uri": "https://localhost:8080/",
          "height": 51
        }
      },
      "source": [
        "CpGIsland(Shrimp)"
      ],
      "execution_count": null,
      "outputs": [
        {
          "output_type": "stream",
          "text": [
            "Segment 1 has 35 matches\n",
            "Segment 2 has 6 matches\n"
          ],
          "name": "stdout"
        }
      ]
    },
    {
      "cell_type": "code",
      "metadata": {
        "id": "8esrkb9qhoRx",
        "outputId": "a96ea841-0d56-44ab-9226-26c73e0fdc72",
        "colab": {
          "resources": {
            "http://localhost:8080/nbextensions/google.colab/files.js": {
              "data": "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",
              "ok": true,
              "headers": [
                [
                  "content-type",
                  "application/javascript"
                ]
              ],
              "status": 200,
              "status_text": ""
            }
          },
          "base_uri": "https://localhost:8080/",
          "height": 108
        }
      },
      "source": [
        "from google.colab import files #importing .fatsa file for species\n",
        "files.upload()"
      ],
      "execution_count": null,
      "outputs": [
        {
          "output_type": "display_data",
          "data": {
            "text/html": [
              "\n",
              "     <input type=\"file\" id=\"files-1fcb3783-8244-4d0b-893c-f59592a94847\" name=\"files[]\" multiple disabled />\n",
              "     <output id=\"result-1fcb3783-8244-4d0b-893c-f59592a94847\">\n",
              "      Upload widget is only available when the cell has been executed in the\n",
              "      current browser session. Please rerun this cell to enable.\n",
              "      </output>\n",
              "      <script src=\"/nbextensions/google.colab/files.js\"></script> "
            ],
            "text/plain": [
              "<IPython.core.display.HTML object>"
            ]
          },
          "metadata": {
            "tags": []
          }
        },
        {
          "output_type": "stream",
          "text": [
            "Saving moth.fasta to moth.fasta\n"
          ],
          "name": "stdout"
        },
        {
          "output_type": "execute_result",
          "data": {
            "text/plain": [
              "{'moth.fasta': b'>NC_005041.2 Blattella germanica densovirus 1, complete genome\\nTGCCCCAAGCCCACAGCTTGCACCGGCCGCCCGCAGCTGCCGCTGGAGGGGGGAGTCGTCGACCTTGACT\\nTCAACCGAACCATGGTTATTTACATTTAATGAAATCAACCGGTTCATGGTTGAAGTCAAGGTCGACGACT\\nCCCCCCTCCAGCGGCAGCTGCGGCGGCCGGTGCAAGCTGTGGGCTTGGGGCAAGCACCAAAATCAAGGAT\\nAAAAGGAGGCAGCATGTTGCAGCCGATTTAGTTGTAAGTTGAAGTTGGAGGAGAGCAGACGTAGGTACGT\\nAATGGCATCTTTAAAAGATTTGTGTAAACAGGCAGTGTTAAAGTATTATAGATGGAATTGGAAAAAGACA\\nGAGGTTTTACCAGTAACATTGCAGAATGAGTTATTAACAGATTGGTTAAAATGTGACGAAGTAGTATTAG\\nAAGAATTTGAAGAACTAAACGAGCGAGCTCATCAATGTGATTACGAAGTTAATGTTTGGCGTAGAATCAA\\nGCAGATAATGTGTCCACAAATTTATGTTGGGTTAATGGAGCATCCAGATACAGTACCTCAGTTTGCTTTT\\nGATCATAGTCATATAATAACAACTTCAATTGTTTGGTATAAAGAAGAATATAACAGTGAAACTGAAAGTT\\nATGAAAGAGAAAGATTATGTAGTCAGTGCTGGTATAGAATGGCAAATCCTCGAGCAGATGATAGTGCAGA\\nTCAGTGGTATATGAATGGATGGACCTTTGGACGCGAATATAGTCATTATTGTGTTTGTAGTAAAGAAGAC\\nGTTTTAGATATAATACAGGATAAAAATAATTGGTGCGCTATTTGTGTTACTCAGAGTTTGATTGATATTT\\nTAACTTATGATGAGTGTGTAGCAGAAACTGAATTTCATGAACCAGGTTACCGTCCATATGTTACTAGAAT\\nTAAGGGCAATACTTTGTTGTAGATGAATTATGGCCGTCTCACCGACTTTTGGAGCCGCTTTGGAGTCACT\\nATGGGAGATGATGCCGGACGAGATAGCGTCTCATCCAGCGACATGGTGGAAGCTGTTGGAGGAGAGCCCT\\nCTGGAGGACCGGTTCAAGGACAAGCTGAAGTCACTTCTAGTTCGGTGGACCAAAAATTACAAGAATTGGT\\nTGATCGGTTCGTTTCCCGCCTTGAAGAAAAAAATTGGAAAGACAGTGGATACTATATTAGCGATGTATAT\\nGCCTGCGAATCATCTGAACGAGCTAATGCACTGGCTAGACGACTGGAGCAAAGAGCTGAATCTTTCGGAA\\nGAGGATTTATCGGAATATTTATCCACAATAATCACGTCCATACAATCCACGCATGCCCCTACACAAGCAG\\nGACGTGCAGGTGCCAGTTCAAGAACTTCCCTGAAGCGAAAGAAGACATTAGACGATTGCTTCGAAAGCCT\\nCCAGCCATCGAAACGTTCACACGACGAGACTGGGAAAATATCACAAAGTATTTTTGTACGTCAGGGCGAC\\nGAGCAACGTTCTTTAAAATCTTTGGACACCTACAAAGATTACCTCTTGAAATTACAGCTTTATCCGACTC\\nTACAATATCAGGCCAAGATGGAGGAGGACCGGACTCAGGCGTGGAGAACTGCAATGATCCGCTTGAATTT\\nCACAGTGGACCAGAAGTCGGGGATATTCCAGCGCGTCCTAGAGCTAACCGACGCCGTAAAAGACGAGATC\\nAAATTGTTGTTGGCGGAGACGGAGGAATCGGAGGAGCTACAGGAATAATTTTGGACTTGTTAAGTAAGTG\\nTGCAGTCTGTCCTTTAACAGAGATAGTGTTTACTAAAGAATATTTGCAAGATCCCATAGTTGCTTGTAAA\\nAGATTAGATTCAAAAGAGGTTAAGGATGCTATAGATACTAGGGCTAGTGTAATCAATACTTGGGAAAGGG\\nAAGATTTTGTTGCTTTTTATAATAATCCAAATACTATATTAATTTGGAGTGCACGTTCTCTTAATGCATT\\nTGATAGTTATTACTTTAATTATGAAGAGTCTTTTAATGTAGTAACTGAGTTACTTACCTTTCAAATGGGT\\nGAAAATCTTGTTCAATTTTGTAGGAATCTTGTAGACACTTTGGAATGTAATATTCCAAAACGTAATTGCT\\nTTGTAGTTTGTAGTCCACCTAGTGCTGGGAAAAACTTTTTCTTTGATGGTGTTAAGGATTATTATTTGAA\\nTTCAGGACAGATGAACAATCCTAATAAATATAATCAATTTGCATATCAGGATTGCCATAATAGAAGGATT\\nATTATATGGAATGAACCTAATTATGAACCAAGGGAAATGGAGAACTTAAAAATGCTGTTTGCTGGTGATA\\nATTTGTCTGCCAATGTAAAATGTAAGCCTCAGGCAAATGTAAAACGAACACCTGTTATTGTGTTGACCAA\\nTTCACTGCCAAATTTTTGTCAACAAACAGCATTTAATGATCGTGTAATAACGTATCATTGGACTCAGGCT\\nACATTTTTGAAGGACTACAATAAAAAGCCGAGACCAGATGCTTGTGTTGATGTACTGTATTCTTTATTGC\\nAATAAACTTACAATTCAACTGAATTTAGAACTCTTTGTGGTTTACCATAGAAATATGGGCGATCAAATGT\\nTTGCAACATTGGTGCAGTTTTAGTAGCAGCTGTAAATTGTGAACGTAATGGAATATCTGATACATTGCCT\\nCTTGGATACGTAAATGGTTCTGTTGAAACGCATCTAAGTCTACATTCTACTGTCCAATACATTTGACAGT\\nCTAACCAAGATGATGCATTAATTGTATTTACAGCAGTTCCAAGTTTTGGTACTGCACGAACACCAACGTG\\nCAAACTTTCTTGATCGCCACATGTTGCTCCTTGATATCCTGCCTCATTGTACAATCCTCCTTGTTCCATT\\nGGAAATTTTGTATATAATGTATCAAAGTCAGTGAATGTACTATTAGAAAGTGCTTCTCCTGTCTTTAAAT\\nCAACACCTCCTACTTGTAAATGACCTAGAGTCATAGCATCTTCCTTTCTAGAATTGGCTCCTTCAACTGC\\nACTAAATCCTGTACTAGGCATCCTAACTGATTGTAGATCTACAATTTTACTACCTGCAGGAATAACAACA\\nTTAGCAGGTTGACTTTCTTTCTTTTCAGGAATATCACCTGGCAAGTAAATAGAATCTTGGTAATGTCTTG\\nCTCTAGTAGTTAAAGGAGCATATTTAAAATCATGATGTGCAGATAAAACTTGTTTACCAATTAAATCCAT\\nTGAATTAAATTCAGAACAATATTTATTGTATTGAGGAAACCCACTATCTATAGTTTGTGAAGCATATACA\\nGTATAATATCTTAGTAAACCCATCTCTTTACCTGTTGATATTGCAGGTACAGTCGGAGTATTTGTTGTAC\\nGAGTAGTTGTACCATACATTTCTTTTGATAATCTATCTCTAAATTTTTGTCCAGTATATTGATCTGCATT\\nAGTTTCAAACCCAAGCGGTTTCATTGGTTCATCACTTGAAAATGTATAATCTCTATCACTACCAAACAAG\\nTGGGGATTGTTTCTTAAACCTTTTGCAATACGAGTAAATTTATTTTGATTTAATGTTGCTTGTGTACTAT\\nTCGTATCTGCTGTTTGAAAAGCTACTCTTGGATTATATTGATATATTTTAATATCACAGTCTGTTGCAAA\\nTACTCCTGTCATTTCTCTCAATCTATTAAATTCAGCAAAAGACATGTACATAAATGCATATTCCCAAGGA\\nATGTTTACTAAAGATGTTGTCAATGCCCATCGTTTAGCCGGAGCTGTAGTTGTACCTATGTCGTCAGGTA\\nGTATTACATCTGCTACACCAAAAGATAAAAATTTCCATTTTTTTGTGAAAGTCCATTCAAATTTCTCTAC\\nATGTATTCCCCTAGATATAGGCATAATACCCCTACTAGCATCTAAATCTAACATTGTACTAGAACCCATT\\nGAACCATCTGTATTACCTGAAGTGCCTGGTAATGCACTTCCACTATGTTCAGAAGGTTTATTTTTTTTTG\\nTTGGAGTACTAGCAGAATCAGGTTCTTCCGCTCCTCTTTTTCCTGTAACTATAGCCTCTGGTGCAGACAT\\nCGTTTGTGCAGGTTCTTGAATCGTTGAAGGCTGAACTGGCAGTTGAGCTGGCACTGGATCTGGTCGTGAA\\nGAAGGACCAGCAACTGGTTGGTCGCTGTTTGATGTTCCTCCTTGTGATTGTTGGGGTGAACCTATCGGAA\\nAATTGTCTAATAAACGATCCAATTCATCTAAATCTTGTATGGCATTATTAGGAGCAGGTGAAGGAGGACG\\nTGCAGCAATAGGTGGTTCAAAATATTGTCCTCGTCGTACTAATGCTAAATTATATTGTTCCATGGCATAT\\nCTGCGCTGTCCCTCGTTCATCCGCTCCCAATTTGGCCGTTCATAAGGAGGTGGTTTATTATAATTAACTG\\nGCATATTTACCGTATTGTACCTTTCCTGTTAGTTTTTCCACTAGTTGTTTGCCTGCTAAACCAACGGCAC\\nCAATTACACCTTGTGTCTGTGATATAGGGTTATGTGAATGTGTAGCTTCTTGAATAAACTGCCCTATTGC\\nCTCTGTATCAGCACGTTGAATATCAATGTCACTTTTTGCTTCACTATAATGTATATCGTGTCCTTGTGCA\\nATAAAATCACTTCCAGTTTTTGCGTCTTGTATTGTATTTCCAGGTCCTATATTATTTGAAAAAGGTAAAA\\nCTATACCTTGTTGAATTCGTTTTTGTCCTGCACGTGGATTAACTAATTTCCAATGCTGTGCATACTGTGC\\nTTTAGATACCTTATCCCACTTTACACCGTAAGGTTTTATAAGTCTATCTCTCTCTGCAAATGGTAAACGA\\nCGTAATTCCCAAGGCACTGAATTATAATATTCGTCTCTTGATTTAAATACATTCAATGGATTACCACTAC\\nTTGCTGCACGCCCTAGTTGACTTTGAAATATTTTATCGTATTGTGCCCCTGCTCCACCTGCGGCACTAGT\\nTGGTTTCACTGGTAATCTACTTGCACCGTATCCACTATGTACTTTTGGCTCTATTCCACCATATTCCACT\\nGTTGCACTATTCACTGGTAACAAAGGCACTGACTCTAAGCCGGACGTAGACATACTAACGACTCCACGTG\\nTTTCCCGCCCTTTTTAACCTTGATCTTGGTGCTTGCCCCAAGCCCACAGCTTGCACCGGCCGCCGCAGCT\\nGCCGCTGGAGGGGGGAGTCGTCGACCTTGACTTCAACCATGAACCGGTTGATTTCATTAAATGTAAATAA\\nCCATGGTTCGGTTGAAGTCAAGGTCGACGACTCCCCCCTCCAGCGGCAGCTGCGGGCGGCCGGTGCAAGC\\nTGTGGGCTTGGGGCA\\n\\n'}"
            ]
          },
          "metadata": {
            "tags": []
          },
          "execution_count": 33
        }
      ]
    },
    {
      "cell_type": "code",
      "metadata": {
        "id": "LUuBfPYifwJ7"
      },
      "source": [
        "my_file = open(\"moth.fasta\")\n",
        "Moth = my_file.read()\n",
        "print(Moth)"
      ],
      "execution_count": null,
      "outputs": []
    },
    {
      "cell_type": "code",
      "metadata": {
        "id": "u1dsaTM5hysM",
        "outputId": "e6526d1a-e120-4d9c-f477-4e7d54b14f44",
        "colab": {
          "base_uri": "https://localhost:8080/",
          "height": 34
        }
      },
      "source": [
        "gccontent(Moth)"
      ],
      "execution_count": null,
      "outputs": [
        {
          "output_type": "execute_result",
          "data": {
            "text/plain": [
              "38.604821037253465"
            ]
          },
          "metadata": {
            "tags": []
          },
          "execution_count": 36
        }
      ]
    },
    {
      "cell_type": "code",
      "metadata": {
        "id": "L3zMxP8DiIFf",
        "outputId": "39d2d7c4-23f5-45e7-99df-08e53de2bee6",
        "colab": {
          "base_uri": "https://localhost:8080/",
          "height": 119
        }
      },
      "source": [
        "CpGIsland(Moth)"
      ],
      "execution_count": null,
      "outputs": [
        {
          "output_type": "stream",
          "text": [
            "Segment 1 has 27 matches\n",
            "Segment 2 has 45 matches\n",
            "Segment 3 has 13 matches\n",
            "Segment 4 has 7 matches\n",
            "Segment 5 has 25 matches\n",
            "Segment 6 has 23 matches\n"
          ],
          "name": "stdout"
        }
      ]
    },
    {
      "cell_type": "code",
      "metadata": {
        "id": "ppq5D4V4upj_"
      },
      "source": [
        "gc = gccontent(Canine)"
      ],
      "execution_count": null,
      "outputs": []
    },
    {
      "cell_type": "code",
      "metadata": {
        "id": "SigU3z9Gi1WV",
        "outputId": "a690412a-88bb-4903-ff95-6c36eb76ecd5",
        "colab": {
          "base_uri": "https://localhost:8080/",
          "height": 105
        }
      },
      "source": [
        "import random #import random strand of DNA\n",
        "at_dna = [\"A\", \"T\"] #seperate AT from GC to allow for use in the future .\n",
        "gc_dna = [\"G\", \"C\"]\n",
        "\n",
        "random_sequence=''\n",
        "for i in range(0,len(Canine)): #we want the same length of the dna of the canine\n",
        "  at_or_gc = random.random()*100 #randomly chooses between the 4 options of ATGC. random.random gives number bw0-1\n",
        "  if at_or_gc < gc: # if statement showing that if at or gc is less then the gc content of dna\n",
        "    random_sequence+=random.choice(gc_dna) #gc_dna, random sequence with random choice of gc_dna (gc of dna)\n",
        "  else:\n",
        "    random_sequence+=random.choice(at_dna)\n",
        "    \n",
        "print(random_sequence) #shows the random sequence of DNA\n",
        "print(gccontent(random_sequence)) #prints the gc content of the random sequenced DNA\n",
        "print(len(Canine)) #prints the length of the DNA strand of the Canine\n",
        "print(len(random_sequence)) # Prints the DNA strand of the random sequence"
      ],
      "execution_count": null,
      "outputs": [
        {
          "output_type": "stream",
          "text": [
            "CAAATACAAATGGAATAGACTTGCGGTCTATTAGGTACTGCTTGTATGAAATACTCAGATGTTCTCTTCAGAGAAACTAATCGAGGAATATACGAGTGACATAAAATTGTATAATAGGCCTTAGCCATTATTCCTGTCAAAGGCAAATCCTATATCGTACTAGGCTAATTATATATGTGTACGTTAGTTATTTTTAATTATAATGTATATAGAGATGAAAACTAGATCGACAAAAAAACAAGCTACGACCTATTTGGCTTCAAAACACATGTAGATTGGTAACACTTTGGATTCATGATCTTTATTTAAATAATATAGTATTTGTTCTCGCTAGTCACTCAGAAGATATAATCGCGTGATACATATGCTATTTTGTATCGTAATATAAATATTAGTTTGGTTTATTATAAAAGCATTGTTTACATAATTATTTCAATTCAAATTAGTATATTAGAAACGACGTTCATTTGTGTACTAGATAGTAATTATTGTACTTTCCCTCAGATCCGATTGATTCGAACCAATACAACTGGGGAAACTGCTTTCTGTAACGTTTTTCCATACCCCGTGTGTTTTTTTTTGAACTTGCGAATAGCCTCCCGAATAGGCTTATAGGTAATAATTCGTGTATTGTTAGAAATCGCCCGCCACATGATTAACTGCATGTTAGAATCGAACTGACCTATTAATCAGCATCGTTTAAACAGCCAAGAGTAGCGTAACGAAAATTGAAAGAGAATCCTTAGAAAAACGTGGTAAATTTCTTATAAAATGGCAAATTCCCACGTCTCTTAAAAGGTGGCATATTTTCATCTTTCAATTCATTTATTGTGGAATTTTGAAATTTAAATCGTATTATCCTTATTACTAATAAATGTTATTAGAGCGTCTTTTTGTCCCTATAAGAAGTCCCTGCGGTAAGCTTAATTTGCATAATCCTGAGGATAAGGAATAGCGTCCCCTGAAATTCAAAAATGCATGAACTCCTATAAAATTTACAGAATTTCTGCACAATCGGACAGAACATTACTTGTAAAGTTAACTTAATTATTCTCAGGTGCCAGTATCCTGTAGCTATTCGGTCAACAAACATATGGCCATATTTTATACGTAAATTAAATAACCTTACGTAAGTACTTCGGTCTGTTTAGACAGTATTGCTGAAGGCAATCTATATCCCCAGTTGGACTGTGTGATCGGACGCAATCTTTTCACTTAATGATGTGTAAACCAAGGAGTCAACCTTTTAGGAATCTTTTAGTCGAGACAGATTAAGGATATCGTTAGAGTGTGGTTCTCATCAAAATACACAATCTTTCACTTAGAAGTAAGCTTTTACCTAAAAATTGTGTAATCGCAAACAGAAGTAGACCTTTGTCAACTCAATATACTTGCCGCTCATTTATGCCAAACCCTGTATTATATTTAAAGCTTTCTGAAAGCCTTAACAAGATGTGAACTGCGTTTGACATTTAAAATGCGTTAAATAATGCAACTATATAAAGTAAGACAGTTTATTTCTTTTCTCGATACAGATTTCTATGAGGAGACCTACATTTTGATATGCTAACGAATCTCCCAAATTCATTTAGAGAAAATTAAATTAGTAAATATTAATCTTAACCAGTTCAGGTTAAAGGATAATTGGAATTCCATTAGTTAAGGCTTTAAATTTATATAAAAATGCTAACGTAAAGTATTTACTTCATTTCTTGACAACTACTTAAGAGGATTTGTTGGATGCCAAATAGATTGCATATGGAAATATTAGCGATTTCATAACGTGTAATGCGTTCATATATTACGATAACTTTGTAGTTGTATAGTAAATCCGTCTAAGGCTAACTCAAAATCTTTAAATAGTTAGTAAAGATTGGTCAGCCGGCGAAACGATAATTAGACTAAGTCGGGAGAAATATAATAAAAAGAACTCGGTGATAAGCTCAGTCCTACACGCTAAGACAAGACCTTAAGTGTATGATAAGAGAATGGCACTTTAATCCGAGAAATATTTTCCAAGGTATCTCTCATTAGAGCTTCTTAAACAACTTAATTCCCTTCTTATAGATAAGTTTAGATATCTTGTAAAGCGGCCATCGCCACATATGATCATATAGTTTCTGAATTGTTTAAAATAGTTATGCTTCCAAAACCGCCTCTTCAAATTTATTGCATACTTATCTCAAAGCGGAATTACATGCATTCCCACGTTCGTAATACTTAATTGCCAGGTGGTAATTTGTTAATGGTGGCGGCACGAAAAGTTGCCTGCTAGCTAAGAAATACGGCCACACACCCACGCCTAATTGATTCATATTACAAAGTTAATAAAATAAGGTAACCATGATTTGGACTCATGAGTGAGTTTTTTCATTTTACAATGCTGTTTATGGTTAAGTCACGATATTGCCCAAAGAATGAATCACTGAACCGTCCTATTCTAGCGATGTATGGTGCTTAACTGGAATTCTGCAGGTTCAAAGTCCGCACTTACAGAAAAATGTGCTTCTGTTCCATCTAGATATCGAGCTCATTAAATAAAGTATAAATCGCTTAATTATTAAGTTAAAAAAGGAGAGGTATATAAAGAAAACTAGAATAGGTTAGATGCAATAGGGATGTTCGATGGGAAATAATATCTTTACGAGCGGAACTTAATCTAATTCCAATGACATAAACATTGCTGACGCTCTGAATCGCATTGAATATACCAAAGGTGATCCGGCAGATGGCCGATAACACAAGTGATTACGCTACAAGAATTATGTAATTTATATGGCAGTATTTACATCCCAACAGTTACAGCGATTAGTACCCATTAAACATCCCAGTTACTAGTATAAAATGAACGCGTAATCACGTTTGATTGTACGATCCTTTTTATTTTATGGATAACTGATATTTAGATAGAAAGTACCAGGCAGACCAAAAACACAGAACTATAGCATCTTAAATTAAATACAAAGCATCAAATTATAAAATAGAAATTGTTATAACGTCTTCGCAAGATGAGGTAGTGTAAGGATTGATATCCATCCTATCTTGCTGCCGAACTGTGTAATAGGATCGACTCGTTCGTCAACTTTCATCAAGTACAGAGAAGCTGGGTAAAGTAAGATCGACCTTTAAACGATATCAAAAAATTCGATGTCAATGGTAGAAAGACAAAACTAAAGACATAGCGCATTAAATAGTTATGTGACGCCATCAAAACTCGATAATATGGCCTACTAGACCCAATTGATTTCCGTTATGACTGCCAGTTGCAATTTTTTAATATTATTAAATTCTTTTACAAAGCGATCCCTCACACTGAACACTTATAGATGTTCACATCTAGAAAAGATAGAGAAAATTATCGAAGACTGATGATTTATAAACAAAACTTGCATGTGTATTACTATACATGGTCAGGTACGTCCCTTATGAAGGAGAAGGGCTCTGGGGACTTGAATTGATATATCCTCGTATTTAATTTAAAAGCTCAAATGATACAATATGTTATGGATCACAAGGGTTATACATGTGCTACATCACTGATAGAGATCTAATTGGGATACCGGAGGATACAAGTAGAACATCTGGATTTTCTCTATATAGATAAAATAAGGAAAGCATCTGAATAAGCAGTTGCTTGTCTTCATGTTTCTCGCTTATCGTGTTAATACAAAACGAATAACGATTCAAAATCTGCGTGCAGTTGGAAGAAATGGGACTAGAATCAGTAACTGAGTCTGATTTACCTAATGATATCATGTGCGTATAGTATAAATGTTCCCGAGCAGCTATATGTCCAGGGTCTTCCTCTAAAAGGTCGGTTCGTATCACATGATAGAATTAGTTACAAAGTAGTTTTCTTGGATTCTTGTGATGCCCTGTGTCTCAGTTTAGGTCCTTTGACATATGGATGAGTTGTTTTCACAATCGTGAAAGTGTCAACAAGGACTGTAATCAAGAAAGGATATTTTACATAAAATCTTCTTTGTAAGACATCTGCCAAAAAAATTCAGGTTTGAATATACATTCCAGTTATTTAAATTAGAATTCTAACTTAAGTGGAAAAGTGTTGTAATTTTTATTCGATTAATTAAGTTTCCCGATCTTTTATAGAAGAATTGCTTTCAAGTACCTCAATTACGCGACTCCCACCATAAATTACCAACGACTTATTTGCACGTAATCTGATAGCATTGACAATGAAATGGTATCTTAGTTCTGTAACTTTAGATTGAACAACTGAAAGGCAGGGATGCGCGATCTCAGATACTAACCCGTTGTTCACTGATAATCGTTTAGTTATTCTTACTATTATACGAATCGATAATAATATGTGTAATGAGTGTGACCTTGTAGGTAAGATTGCCTAGGGAAGATGCATTTTGTTATCTACTTCTACAGAGATGATTTGAAAACGAATATTCTGACAGTGAGCGCAAACTTACATCTTAGTCTTCAGTACTTCACGTGATATTCTCCCAATATGTTTTTCTACTTTGCCAGATATTGGTTTGGTCTTACGAGATCTAAAGGTGTCACCCAATCCATTAGCTTCTTTGTTATCCACTCCATACATAACAAGTAGGCATTAAAAGTTGCGAGTGGTGAGACCGTTTACTGCTTGTTTAGAACTGTGGAATATACATACACTTCTAACCTATTATTACTTAAAGTTTATGAGAAAATATAATTCTGCTACTAAAACAATGTTAAAAATTATTTGCGCGCTACAAGTATCTTGTGTGGTTCACGATTACCTAATAAACAATTAAAGAATGGAATTGAGCTGTAAAGCTATCCGGTAATTTATTTTACTCGCCTAGCTAGGTAGCCGCCCATACTCATACAATTAAGAGTGTCCACGACAAAAGGGACCTACATCAATCAAAAACACGATTAATAAATTTCCCATATTTAATCTTTAGACTGTTCGTAGG\n",
            "34.06972030806648\n",
            "4934\n",
            "4934\n"
          ],
          "name": "stdout"
        }
      ]
    },
    {
      "cell_type": "code",
      "metadata": {
        "id": "O8gkIq01u4C3",
        "outputId": "4a8b5231-ecee-4705-c4d8-9907e3fd6798",
        "colab": {
          "base_uri": "https://localhost:8080/",
          "height": 102
        }
      },
      "source": [
        "CpGIsland(random_sequence)"
      ],
      "execution_count": null,
      "outputs": [
        {
          "output_type": "stream",
          "text": [
            "Segment 1 has 32 matches\n",
            "Segment 2 has 27 matches\n",
            "Segment 3 has 31 matches\n",
            "Segment 4 has 27 matches\n",
            "Segment 5 has 27 matches\n"
          ],
          "name": "stdout"
        }
      ]
    },
    {
      "cell_type": "code",
      "metadata": {
        "id": "Af-4VbXRrQLB",
        "outputId": "6b00ca69-620a-43cc-8f82-41f9bfbf8a6d",
        "colab": {
          "base_uri": "https://localhost:8080/",
          "height": 34
        }
      },
      "source": [
        "print(at_or_gc)"
      ],
      "execution_count": null,
      "outputs": [
        {
          "output_type": "stream",
          "text": [
            "47.48864281319838\n"
          ],
          "name": "stdout"
        }
      ]
    },
    {
      "cell_type": "code",
      "metadata": {
        "id": "rDl8WjxEr5Fq"
      },
      "source": [
        "Gc = gccontent(Shrimp)"
      ],
      "execution_count": null,
      "outputs": []
    },
    {
      "cell_type": "code",
      "metadata": {
        "id": "ZZR0jfKMuQ9O",
        "outputId": "3a9b9eb8-8855-43ff-ee5c-893a85cde7f9",
        "colab": {
          "base_uri": "https://localhost:8080/",
          "height": 105
        }
      },
      "source": [
        "import random #import random strand of DNA\n",
        "At_dna = [\"A\", \"T\"] #seperate AT from GC to allow for use in the future .\n",
        "Gc_dna = [\"G\", \"C\"]\n",
        "\n",
        "random_sequence=''\n",
        "for i in range(0,len(Shrimp)): #we want the same length of the dna of the canine\n",
        "  At_or_Gc = random.random()*100 #randomly chooses between the 4 options of ATGC. random.random gives number bw0-1\n",
        "  if At_or_Gc < Gc: # if statement showing that if at or gc is less then the gc content of dna\n",
        "    random_sequence+=random.choice(Gc_dna) #gc_dna, random sequence with random choice of gc_dna (gc of dna)\n",
        "  else:\n",
        "    random_sequence+=random.choice(At_dna)\n",
        "    \n",
        "print(random_sequence) #shows the random sequence of DNA\n",
        "print(gccontent(random_sequence)) #prints the gc content of the random sequenced DNA\n",
        "print(len(Shrimp)) #prints the length of the DNA strand of the Canine\n",
        "print(len(random_sequence)) # Prints the DNA strand of the random sequence"
      ],
      "execution_count": null,
      "outputs": [
        {
          "output_type": "stream",
          "text": [
            "TTGATTACAGCTACTCGCTGTATTGGTCATAGAGATAAAAGTGATGCGTCTGGGCCCCGAGAAAAAATGCCTCTTATTGATGGATTAGAGTTTTAAACACAGTTAGACAGTAAACCTCATAACTTACATTCAAGGGTATTTAATCTTAACTTCTTTCTACGGGAATACGGTTAACGCAGAATAGTAAATCCACGTGTTCATTTGTTAATTGGTTACAAAGAATTGTCTACCTCCGCTATTAAGACGAATCCATGTATTAATACTTAAGAAGGCTCTAGTAAGAAGTTCCGACAGGCTAAATTATACTTCATTACCTAGCATACAAGCAAACTGCCTAGACAGTAAGTAGAATTTTTCAGCGGTGTGGAGACTCGGATTATTACGTCTTCAAAAACGAACATATCGCCCCTGGATAGCATAATATCAAAAATTAAAATTCAACGCTTCTAGAGAGAACAGTTTGGGATGTAACACTTTTTCGAAGAGATACACTTATTGAGACTCATCTCGTGCATACGCACTAGGACGTTCATAGCAGGAAAAGCTACAGGTTATGTTATAGTCTTTATTAATCTGTTCACTTGGTCCGTACATGAGTATGTCTTATGACGACATGATTATACTTTCGTGGAATAAAATCAGCGTGACTTTTGATTAGATAATAAAGCGTTTTAGCAATAATTTGTTAAAAAAACAGACTAACTCTAGCCAATTGGAAGAGAAAAACAGACGGTTCCCGGTAATGGAGAGGAAATGGTATTGGCATGGCTATTATAAAGAGCTAGCAAACAGTAAGCTGAGTCAGTTGTTGGCAAACAACTCGACATATAGTGGCCTAAGGTGGATTTTACTAAACGATCCAAGATCCACATATAATCAGCTTTCGTTGTCGGTGAACTGTTCGCCGGGCGGAGTACTATACCCGGTGTCCGTCTTTTACAAATGACTACTGGACACTGTAGTCATTCTGCAAAAAATATATACTGGGATGGCTATATTACAGATTGTTAAAGCTCCTGCGGTTAACGTGATGTGCGACTGAAAATTTTACGCTCGCTATCATTCCGGATCAGATGTATACATGGTCAAGTTGTAAGGGAGCTAGTATATACAGTAGGTTTAAGTACGCTCGAAAAGTTTAGATGCATTCGGTTGAGGCAGTACGAGATACTTTCCCAAATATAACGGATGTTTCTAATAAGTAAATTTTTCTGTTGGATAAGCGCACAGGCAAAAGGAGATTTAGTTTTCGCTGCGCAGCTGCTTCCCGAAAGATGGCCCCAAACATC\n",
            "38.55702094647013\n",
            "1289\n",
            "1289\n"
          ],
          "name": "stdout"
        }
      ]
    },
    {
      "cell_type": "code",
      "metadata": {
        "id": "i3YLLV8OuV-t"
      },
      "source": [
        "Shrimp = open(\"shrimp.txt\", \"w\")"
      ],
      "execution_count": null,
      "outputs": []
    },
    {
      "cell_type": "code",
      "metadata": {
        "id": "oOz1QGp8s_Jv"
      },
      "source": [
        ""
      ],
      "execution_count": null,
      "outputs": []
    },
    {
      "cell_type": "code",
      "metadata": {
        "id": "q3GBT3P_s_hZ"
      },
      "source": [
        ""
      ],
      "execution_count": null,
      "outputs": []
    },
    {
      "cell_type": "code",
      "metadata": {
        "id": "2AF31yXcs_7y"
      },
      "source": [
        "def CpGIsland(finaldict):\n",
        "    for k,v in finaldict.items():\n",
        "        tcounter = 0\n",
        "        counter = 0\n",
        "        segment = 0\n",
        "        teststring = v\n",
        "        print(\"KEY:\", k)\n",
        "        print(\"VALUES:\")\n",
        "        for y in range(0, len(teststring)):\n",
        "            print(y)\n",
        "            print(len(teststring))\n",
        "            if teststring[y:y+2] == \"CG\": \n",
        "                counter = counter + 1 \n",
        "                tcounter = tcounter + 1\n",
        "            elif y != 0 and float(y/1000).is_integer() == True : \n",
        "                segment = segment + 1 \n",
        "                print('Segment', segment , 'has' , counter , 'matches')\n",
        "                counter = 0 \n",
        "            else:\n",
        "                if y == len(teststring):\n",
        "                    print('Segment', segment + 1 , 'has' , counter , 'matches', '\\n', 'Average Matches', tcounter/(segment+1))\n",
        "    #return print('Total Matches:', tcounter)"
      ],
      "execution_count": null,
      "outputs": []
    }
  ]
}